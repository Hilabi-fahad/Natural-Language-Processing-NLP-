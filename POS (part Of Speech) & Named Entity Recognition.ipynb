{
 "cells": [
  {
   "cell_type": "code",
   "execution_count": 1,
   "metadata": {},
   "outputs": [],
   "source": [
    "import os\n",
    "import nltk\n",
    "import nltk.corpus"
   ]
  },
  {
   "cell_type": "markdown",
   "metadata": {},
   "source": [
    "<h4>Part of Speech</h4>\n",
    "<p>like Noun, Determiner,Symbol,Particle,Interjection,Verb,Abverb</p>"
   ]
  },
  {
   "cell_type": "code",
   "execution_count": 2,
   "metadata": {},
   "outputs": [],
   "source": [
    "from nltk.tokenize import word_tokenize"
   ]
  },
  {
   "cell_type": "code",
   "execution_count": 5,
   "metadata": {},
   "outputs": [],
   "source": [
    "sent=\"Seema is a natural when it comes to drawing \"\n",
    "sent_tokens = word_tokenize(sent)"
   ]
  },
  {
   "cell_type": "code",
   "execution_count": 6,
   "metadata": {},
   "outputs": [
    {
     "name": "stdout",
     "output_type": "stream",
     "text": [
      "[('Seema', 'NN')]\n",
      "[('is', 'VBZ')]\n",
      "[('a', 'DT')]\n",
      "[('natural', 'JJ')]\n",
      "[('when', 'WRB')]\n",
      "[('it', 'PRP')]\n",
      "[('comes', 'VBZ')]\n",
      "[('to', 'TO')]\n",
      "[('drawing', 'VBG')]\n"
     ]
    }
   ],
   "source": [
    "for token in sent_tokens:\n",
    "    print(nltk.pos_tag([token]))"
   ]
  },
  {
   "cell_type": "code",
   "execution_count": 7,
   "metadata": {},
   "outputs": [
    {
     "name": "stdout",
     "output_type": "stream",
     "text": [
      "[('John', 'NNP')]\n",
      "[('is', 'VBZ')]\n",
      "[('eating', 'VBG')]\n",
      "[('a', 'DT')]\n",
      "[('delicious', 'JJ')]\n",
      "[('cake', 'NN')]\n"
     ]
    }
   ],
   "source": [
    "sent2=\"John is eating a delicious cake\"\n",
    "sent2_tokens = word_tokenize(sent2)\n",
    "for token in sent2_tokens:\n",
    "    print(nltk.pos_tag([token]))"
   ]
  },
  {
   "cell_type": "markdown",
   "metadata": {},
   "source": [
    "<h4>Named Entity Recognition</h4>\n",
    "\n",
    "<p>like Movie, Monetary value, Organization, Location ,Person,Quantities</p>"
   ]
  },
  {
   "cell_type": "code",
   "execution_count": 9,
   "metadata": {},
   "outputs": [],
   "source": [
    "text =\"my name fahad hilabi student of mca in allana institute management sciences .i am from saudi arabia and completed graduated from mulana azad collage auarangabad ,working in kraftic solution. i like cooking , playing games and i want to become data analytics\""
   ]
  },
  {
   "cell_type": "code",
   "execution_count": 10,
   "metadata": {},
   "outputs": [],
   "source": [
    "from nltk import ne_chunk "
   ]
  },
  {
   "cell_type": "code",
   "execution_count": 12,
   "metadata": {},
   "outputs": [],
   "source": [
    "NE_tokens=word_tokenize(text)\n",
    "EN_tags=nltk.pos_tag(NE_tokens)"
   ]
  },
  {
   "cell_type": "markdown",
   "metadata": {},
   "source": [
    "<p>Chunk function and pass th list of tuple containing POS tax <p>"
   ]
  },
  {
   "cell_type": "code",
   "execution_count": 13,
   "metadata": {},
   "outputs": [
    {
     "name": "stdout",
     "output_type": "stream",
     "text": [
      "(S\n",
      "  my/PRP$\n",
      "  name/NN\n",
      "  fahad/VBD\n",
      "  hilabi/JJ\n",
      "  student/NN\n",
      "  of/IN\n",
      "  mca/NN\n",
      "  in/IN\n",
      "  allana/JJ\n",
      "  institute/NN\n",
      "  management/NN\n",
      "  sciences/NNS\n",
      "  .i/VBP\n",
      "  am/VBP\n",
      "  from/IN\n",
      "  saudi/NN\n",
      "  arabia/NN\n",
      "  and/CC\n",
      "  completed/VBN\n",
      "  graduated/VBN\n",
      "  from/IN\n",
      "  mulana/NN\n",
      "  azad/NN\n",
      "  collage/NN\n",
      "  auarangabad/NN\n",
      "  ,/,\n",
      "  working/VBG\n",
      "  in/IN\n",
      "  kraftic/JJ\n",
      "  solution/NN\n",
      "  ./.\n",
      "  i/NN\n",
      "  like/IN\n",
      "  cooking/NN\n",
      "  ,/,\n",
      "  playing/VBG\n",
      "  games/NNS\n",
      "  and/CC\n",
      "  i/NN\n",
      "  want/VBP\n",
      "  to/TO\n",
      "  become/VB\n",
      "  data/NNS\n",
      "  analytics/NNS)\n"
     ]
    }
   ],
   "source": [
    "NE_NER=ne_chunk(EN_tags)\n",
    "print(NE_NER)"
   ]
  },
  {
   "cell_type": "code",
   "execution_count": null,
   "metadata": {},
   "outputs": [],
   "source": []
  }
 ],
 "metadata": {
  "kernelspec": {
   "display_name": "Python 3",
   "language": "python",
   "name": "python3"
  },
  "language_info": {
   "codemirror_mode": {
    "name": "ipython",
    "version": 3
   },
   "file_extension": ".py",
   "mimetype": "text/x-python",
   "name": "python",
   "nbconvert_exporter": "python",
   "pygments_lexer": "ipython3",
   "version": "3.7.3"
  }
 },
 "nbformat": 4,
 "nbformat_minor": 2
}
